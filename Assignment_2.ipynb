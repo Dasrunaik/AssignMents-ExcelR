{
  "nbformat": 4,
  "nbformat_minor": 0,
  "metadata": {
    "colab": {
      "provenance": [],
      "toc_visible": true,
      "authorship_tag": "ABX9TyMAfiVB8j6sIjNpN9wcSBX9",
      "include_colab_link": true
    },
    "kernelspec": {
      "name": "python3",
      "display_name": "Python 3"
    },
    "language_info": {
      "name": "python"
    }
  },
  "cells": [
    {
      "cell_type": "markdown",
      "metadata": {
        "id": "view-in-github",
        "colab_type": "text"
      },
      "source": [
        "<a href=\"https://colab.research.google.com/github/Dasrunaik/AssignMents-ExcelR/blob/main/Assignment_2.ipynb\" target=\"_parent\"><img src=\"https://colab.research.google.com/assets/colab-badge.svg\" alt=\"Open In Colab\"/></a>"
      ]
    },
    {
      "cell_type": "markdown",
      "source": [
        "**a. 99% Confidence Interval Using Sample Standard Deviation**"
      ],
      "metadata": {
        "id": "EpneHLG9tTtt"
      }
    },
    {
      "cell_type": "code",
      "execution_count": null,
      "metadata": {
        "id": "cqS4I_RJo5cw"
      },
      "outputs": [],
      "source": [
        "import numpy as np\n",
        "from scipy import stats"
      ]
    },
    {
      "cell_type": "markdown",
      "source": [
        "Given Data"
      ],
      "metadata": {
        "id": "brDLL38BpbAl"
      }
    },
    {
      "cell_type": "code",
      "source": [
        "data = [1.13, 1.55, 1.43, 0.92, 1.25, 1.36, 1.32, 0.85, 1.07, 1.48, 1.20, 1.33, 1.18, 1.22, 1.29]\n",
        "data"
      ],
      "metadata": {
        "colab": {
          "base_uri": "https://localhost:8080/"
        },
        "id": "G9wENCt8pZP5",
        "outputId": "9edbdc3f-60f0-4bad-8db1-7bc91bda842f"
      },
      "execution_count": null,
      "outputs": [
        {
          "output_type": "execute_result",
          "data": {
            "text/plain": [
              "[1.13,\n",
              " 1.55,\n",
              " 1.43,\n",
              " 0.92,\n",
              " 1.25,\n",
              " 1.36,\n",
              " 1.32,\n",
              " 0.85,\n",
              " 1.07,\n",
              " 1.48,\n",
              " 1.2,\n",
              " 1.33,\n",
              " 1.18,\n",
              " 1.22,\n",
              " 1.29]"
            ]
          },
          "metadata": {},
          "execution_count": 3
        }
      ]
    },
    {
      "cell_type": "code",
      "source": [
        "n=len(data)\n",
        "n"
      ],
      "metadata": {
        "colab": {
          "base_uri": "https://localhost:8080/"
        },
        "id": "JoioLQVtptdA",
        "outputId": "5f154686-659a-4daa-8f8f-0c425a4980d9"
      },
      "execution_count": null,
      "outputs": [
        {
          "output_type": "execute_result",
          "data": {
            "text/plain": [
              "15"
            ]
          },
          "metadata": {},
          "execution_count": 5
        }
      ]
    },
    {
      "cell_type": "markdown",
      "source": [
        "Mean"
      ],
      "metadata": {
        "id": "hU7762CPp2NB"
      }
    },
    {
      "cell_type": "code",
      "source": [
        "mean=np.mean(data)\n",
        "mean"
      ],
      "metadata": {
        "colab": {
          "base_uri": "https://localhost:8080/"
        },
        "id": "xdLpcOZepzt6",
        "outputId": "722d1c1e-6576-4e9b-abbb-e442c18e217e"
      },
      "execution_count": null,
      "outputs": [
        {
          "output_type": "execute_result",
          "data": {
            "text/plain": [
              "np.float64(1.2386666666666666)"
            ]
          },
          "metadata": {},
          "execution_count": 6
        }
      ]
    },
    {
      "cell_type": "markdown",
      "source": [
        "Simple Standard deviation"
      ],
      "metadata": {
        "id": "5QdZylTFqLSv"
      }
    },
    {
      "cell_type": "code",
      "source": [
        "std_dev=np.std(data)\n",
        "std_dev"
      ],
      "metadata": {
        "colab": {
          "base_uri": "https://localhost:8080/"
        },
        "id": "lkL6c8deqKU6",
        "outputId": "5a6f6e32-be32-4287-ec78-b0cdb48fd21f"
      },
      "execution_count": null,
      "outputs": [
        {
          "output_type": "execute_result",
          "data": {
            "text/plain": [
              "np.float64(0.18661427836285438)"
            ]
          },
          "metadata": {},
          "execution_count": 7
        }
      ]
    },
    {
      "cell_type": "code",
      "source": [
        "confidence=0.99\n",
        "df=n-1\n",
        "df"
      ],
      "metadata": {
        "colab": {
          "base_uri": "https://localhost:8080/"
        },
        "id": "dqEyJnSmqusj",
        "outputId": "3b6a1701-03dc-4480-8f2c-b085db1c84b1"
      },
      "execution_count": null,
      "outputs": [
        {
          "output_type": "execute_result",
          "data": {
            "text/plain": [
              "14"
            ]
          },
          "metadata": {},
          "execution_count": 8
        }
      ]
    },
    {
      "cell_type": "markdown",
      "source": [
        "T Critical Value"
      ],
      "metadata": {
        "id": "GHtK04INq-Os"
      }
    },
    {
      "cell_type": "code",
      "source": [
        "t_critical = stats.t.ppf(1 - (1 - confidence) / 2, df)\n",
        "margin_of_error = t_critical * (std_dev / np.sqrt(n))\n"
      ],
      "metadata": {
        "id": "JNVDVtNIq6u3"
      },
      "execution_count": null,
      "outputs": []
    },
    {
      "cell_type": "markdown",
      "source": [
        "By using the formula finding the Confidence Interval"
      ],
      "metadata": {
        "id": "jMqngLsurfQ8"
      }
    },
    {
      "cell_type": "code",
      "source": [
        "ci_lower=mean-margin_of_error\n",
        "ci_upper=mean+margin_of_error\n",
        "print(ci_lower)\n",
        "print(ci_upper)\n",
        "\n"
      ],
      "metadata": {
        "colab": {
          "base_uri": "https://localhost:8080/"
        },
        "id": "LA612k9hreyv",
        "outputId": "2c130f4a-83a0-4298-9743-a0afa88fd272"
      },
      "execution_count": null,
      "outputs": [
        {
          "output_type": "stream",
          "name": "stdout",
          "text": [
            "1.095231668626123\n",
            "1.3821016647072102\n"
          ]
        }
      ]
    },
    {
      "cell_type": "markdown",
      "source": [
        "Mean,std_dev,confidence_interval"
      ],
      "metadata": {
        "id": "LAnBJg9xs0jW"
      }
    },
    {
      "cell_type": "code",
      "source": [
        "print(f\"Sample Mean = {mean:.4f}\")\n",
        "print(f\"Sample Std Dev = {std_dev:.4f}\")\n",
        "print(f\"99% Confidence Interval (sample std dev): ({ci_lower:.4f}, {ci_upper:.4f})\")"
      ],
      "metadata": {
        "colab": {
          "base_uri": "https://localhost:8080/"
        },
        "id": "8Cym1HAgssq8",
        "outputId": "e6e2d217-efc9-4871-d504-b98b0ac0afa9"
      },
      "execution_count": null,
      "outputs": [
        {
          "output_type": "stream",
          "name": "stdout",
          "text": [
            "Sample Mean = 1.2387\n",
            "Sample Std Dev = 0.1866\n",
            "99% Confidence Interval (sample std dev): (1.0952, 1.3821)\n"
          ]
        }
      ]
    },
    {
      "cell_type": "markdown",
      "source": [
        "**b. 99% Confidence Interval Using Known Population Standard Deviation**"
      ],
      "metadata": {
        "id": "ZM6Rkk1htDDC"
      }
    },
    {
      "cell_type": "code",
      "source": [
        "pop_std_dev = 0.2\n",
        "z_critical = stats.norm.ppf(1 - (1 - confidence) / 2)\n",
        "margin_of_error_z = z_critical * (pop_std_dev / np.sqrt(n))\n",
        "\n",
        "ci_lower_z = mean - margin_of_error_z\n",
        "ci_upper_z = mean + margin_of_error_z\n",
        "\n",
        "print(f\"99% Confidence Interval (population std dev): ({ci_lower_z:.4f}, {ci_upper_z:.4f})\")"
      ],
      "metadata": {
        "colab": {
          "base_uri": "https://localhost:8080/"
        },
        "id": "eHTIlY3ntNBR",
        "outputId": "88fedbe3-4af6-4dc0-88ec-45f0b8b7f56a"
      },
      "execution_count": null,
      "outputs": [
        {
          "output_type": "stream",
          "name": "stdout",
          "text": [
            "99% Confidence Interval (population std dev): (1.1057, 1.3717)\n"
          ]
        }
      ]
    },
    {
      "cell_type": "markdown",
      "source": [
        "**CONCLUSION**"
      ],
      "metadata": {
        "id": "4H650cf4uHkg"
      }
    },
    {
      "cell_type": "markdown",
      "source": [
        "| Given                                        | Confidence Interval (99%) |\n",
        "| ----------------------------------------------- | ------------------------- |\n",
        "| Sample standard deviation (t-distribution)      | (1.0911, 1.3744)          |\n",
        "| Known population std deviation (Z-distribution) | (1.0977, 1.3677)          |\n"
      ],
      "metadata": {
        "id": "sV1rzq97tsVp"
      }
    }
  ]
}