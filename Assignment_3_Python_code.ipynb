{
  "nbformat": 4,
  "nbformat_minor": 0,
  "metadata": {
    "colab": {
      "provenance": [],
      "toc_visible": true,
      "authorship_tag": "ABX9TyO0hURx27JUUdu4Hel502b+",
      "include_colab_link": true
    },
    "kernelspec": {
      "name": "python3",
      "display_name": "Python 3"
    },
    "language_info": {
      "name": "python"
    }
  },
  "cells": [
    {
      "cell_type": "markdown",
      "metadata": {
        "id": "view-in-github",
        "colab_type": "text"
      },
      "source": [
        "<a href=\"https://colab.research.google.com/github/Dasrunaik/AssignMents-ExcelR/blob/main/Assignment_3_Python_code.ipynb\" target=\"_parent\"><img src=\"https://colab.research.google.com/assets/colab-badge.svg\" alt=\"Open In Colab\"/></a>"
      ]
    },
    {
      "cell_type": "markdown",
      "source": [
        "**Check the given number is Prime**"
      ],
      "metadata": {
        "id": "CzLl2KQG4u2N"
      }
    },
    {
      "cell_type": "code",
      "execution_count": null,
      "metadata": {
        "colab": {
          "base_uri": "https://localhost:8080/"
        },
        "id": "wkkFJqg_3ZGV",
        "outputId": "ec07f8dd-6324-4637-8f10-a6cf83246e6f"
      },
      "outputs": [
        {
          "output_type": "stream",
          "name": "stdout",
          "text": [
            "Enter a number:7\n",
            "7 is a prime number\n",
            "None\n"
          ]
        }
      ],
      "source": [
        "def prime(num):\n",
        "  if num > 1:\n",
        "    for i in range(2,num):\n",
        "      if num % i == 0:\n",
        "        print(num,\"is not a prime number\")\n",
        "        break\n",
        "      else:\n",
        "        print(num,\"is a prime number\")\n",
        "        break\n",
        "  else:\n",
        "    print(num,\"is not a prime number\")\n",
        "\n",
        "num=int(input(\"Enter a number:\"))\n",
        "print(prime(num))"
      ]
    },
    {
      "cell_type": "markdown",
      "source": [
        "**Product of two random number**"
      ],
      "metadata": {
        "id": "LAKXkxo_-7fa"
      }
    },
    {
      "cell_type": "code",
      "source": [
        "def product_of_Two_numbers():\n",
        "  # user input\n",
        "    try:\n",
        "        num1 = int(input(\"Enter the first number: \"))\n",
        "        num2 = int(input(\"Enter the second number: \"))\n",
        "    except ValueError:\n",
        "        print(\"Invalid input. Please enter integers only.\")\n",
        "        return\n",
        "\n",
        "    product = num1 * num2\n",
        "    # checking the answer for user given input of product of two number\n",
        "    try:\n",
        "        user_given_number = int(input(f\"What is the product of {num1} and {num2}? \"))\n",
        "    except ValueError:\n",
        "        print(\"Invalid input. Please enter a number.\")\n",
        "        return\n",
        "\n",
        "    # Check the answer\n",
        "    if user_given_number == product:\n",
        "        print(\"Correct answer\")\n",
        "    else:\n",
        "        print(f\"Incorrect. The correct answer is {correct_answer}.\")\n",
        "\n",
        "# Answer\n",
        "if __name__ == \"__main__\":\n",
        "    product_of_Two_numbers()\n"
      ],
      "metadata": {
        "colab": {
          "base_uri": "https://localhost:8080/"
        },
        "id": "w8EGFhcK7mGE",
        "outputId": "c96de412-0437-45f3-8d3e-bbc9d7c2b550"
      },
      "execution_count": null,
      "outputs": [
        {
          "output_type": "stream",
          "name": "stdout",
          "text": [
            "Enter the first number: 2\n",
            "Enter the second number: 3\n",
            "What is the product of 2 and 3? 6\n",
            "Correct answer\n"
          ]
        }
      ]
    },
    {
      "cell_type": "markdown",
      "source": [
        "**Squares of Even**"
      ],
      "metadata": {
        "id": "nx-3Txss-zVS"
      }
    },
    {
      "cell_type": "code",
      "source": [
        "for number in range(100, 201):\n",
        "    if number % 2 == 0:  # Check if the number is even\n",
        "        square = number ** 2\n",
        "        print(f\"The square of {number} is {square}\")"
      ],
      "metadata": {
        "colab": {
          "base_uri": "https://localhost:8080/"
        },
        "id": "l9WEVkPX-Qbe",
        "outputId": "8f8983f3-2c8d-409e-ca8b-a6e385568d3d"
      },
      "execution_count": null,
      "outputs": [
        {
          "output_type": "stream",
          "name": "stdout",
          "text": [
            "The square of 100 is 10000\n",
            "The square of 102 is 10404\n",
            "The square of 104 is 10816\n",
            "The square of 106 is 11236\n",
            "The square of 108 is 11664\n",
            "The square of 110 is 12100\n",
            "The square of 112 is 12544\n",
            "The square of 114 is 12996\n",
            "The square of 116 is 13456\n",
            "The square of 118 is 13924\n",
            "The square of 120 is 14400\n",
            "The square of 122 is 14884\n",
            "The square of 124 is 15376\n",
            "The square of 126 is 15876\n",
            "The square of 128 is 16384\n",
            "The square of 130 is 16900\n",
            "The square of 132 is 17424\n",
            "The square of 134 is 17956\n",
            "The square of 136 is 18496\n",
            "The square of 138 is 19044\n",
            "The square of 140 is 19600\n",
            "The square of 142 is 20164\n",
            "The square of 144 is 20736\n",
            "The square of 146 is 21316\n",
            "The square of 148 is 21904\n",
            "The square of 150 is 22500\n",
            "The square of 152 is 23104\n",
            "The square of 154 is 23716\n",
            "The square of 156 is 24336\n",
            "The square of 158 is 24964\n",
            "The square of 160 is 25600\n",
            "The square of 162 is 26244\n",
            "The square of 164 is 26896\n",
            "The square of 166 is 27556\n",
            "The square of 168 is 28224\n",
            "The square of 170 is 28900\n",
            "The square of 172 is 29584\n",
            "The square of 174 is 30276\n",
            "The square of 176 is 30976\n",
            "The square of 178 is 31684\n",
            "The square of 180 is 32400\n",
            "The square of 182 is 33124\n",
            "The square of 184 is 33856\n",
            "The square of 186 is 34596\n",
            "The square of 188 is 35344\n",
            "The square of 190 is 36100\n",
            "The square of 192 is 36864\n",
            "The square of 194 is 37636\n",
            "The square of 196 is 38416\n",
            "The square of 198 is 39204\n",
            "The square of 200 is 40000\n"
          ]
        }
      ]
    },
    {
      "cell_type": "markdown",
      "source": [
        "**Squares of Odd**"
      ],
      "metadata": {
        "id": "RUVRYeBp_Tdh"
      }
    },
    {
      "cell_type": "code",
      "source": [
        "for number in range(100, 201):\n",
        "    if number % 2 != 0:  # Check if the number is odd\n",
        "        square = number ** 2\n",
        "        print(f\"The square of {number} is {square}\")"
      ],
      "metadata": {
        "colab": {
          "base_uri": "https://localhost:8080/"
        },
        "id": "uvzru3il_Ym-",
        "outputId": "21bf3e13-c9f8-40f1-c192-a07434d38aea"
      },
      "execution_count": null,
      "outputs": [
        {
          "output_type": "stream",
          "name": "stdout",
          "text": [
            "The square of 101 is 10201\n",
            "The square of 103 is 10609\n",
            "The square of 105 is 11025\n",
            "The square of 107 is 11449\n",
            "The square of 109 is 11881\n",
            "The square of 111 is 12321\n",
            "The square of 113 is 12769\n",
            "The square of 115 is 13225\n",
            "The square of 117 is 13689\n",
            "The square of 119 is 14161\n",
            "The square of 121 is 14641\n",
            "The square of 123 is 15129\n",
            "The square of 125 is 15625\n",
            "The square of 127 is 16129\n",
            "The square of 129 is 16641\n",
            "The square of 131 is 17161\n",
            "The square of 133 is 17689\n",
            "The square of 135 is 18225\n",
            "The square of 137 is 18769\n",
            "The square of 139 is 19321\n",
            "The square of 141 is 19881\n",
            "The square of 143 is 20449\n",
            "The square of 145 is 21025\n",
            "The square of 147 is 21609\n",
            "The square of 149 is 22201\n",
            "The square of 151 is 22801\n",
            "The square of 153 is 23409\n",
            "The square of 155 is 24025\n",
            "The square of 157 is 24649\n",
            "The square of 159 is 25281\n",
            "The square of 161 is 25921\n",
            "The square of 163 is 26569\n",
            "The square of 165 is 27225\n",
            "The square of 167 is 27889\n",
            "The square of 169 is 28561\n",
            "The square of 171 is 29241\n",
            "The square of 173 is 29929\n",
            "The square of 175 is 30625\n",
            "The square of 177 is 31329\n",
            "The square of 179 is 32041\n",
            "The square of 181 is 32761\n",
            "The square of 183 is 33489\n",
            "The square of 185 is 34225\n",
            "The square of 187 is 34969\n",
            "The square of 189 is 35721\n",
            "The square of 191 is 36481\n",
            "The square of 193 is 37249\n",
            "The square of 195 is 38025\n",
            "The square of 197 is 38809\n",
            "The square of 199 is 39601\n"
          ]
        }
      ]
    },
    {
      "cell_type": "markdown",
      "source": [
        "**Word counter**"
      ],
      "metadata": {
        "id": "9qWitwgCA-yF"
      }
    },
    {
      "cell_type": "code",
      "source": [
        "def word_count(txt):\n",
        "  counts =dict()\n",
        "  # spliting the text words\n",
        "  words=txt.split()\n",
        "  for word in words:\n",
        "    if word in counts:\n",
        "      counts[word]+=1\n",
        "    else:\n",
        "      counts[word]=1\n",
        "  return counts\n",
        "txt=input(\"enter the test sentence\")\n",
        "print(txt)\n",
        "word_count(txt)"
      ],
      "metadata": {
        "colab": {
          "base_uri": "https://localhost:8080/"
        },
        "id": "7YwdQypYAN8z",
        "outputId": "352b7444-81f1-412b-d126-4a725a28adce"
      },
      "execution_count": null,
      "outputs": [
        {
          "output_type": "stream",
          "name": "stdout",
          "text": [
            "enter the test sentenceiam a good boy and i always do good things\n",
            "iam a good boy and i always do good things\n"
          ]
        },
        {
          "output_type": "execute_result",
          "data": {
            "text/plain": [
              "{'iam': 1,\n",
              " 'a': 1,\n",
              " 'good': 2,\n",
              " 'boy': 1,\n",
              " 'and': 1,\n",
              " 'i': 1,\n",
              " 'always': 1,\n",
              " 'do': 1,\n",
              " 'things': 1}"
            ]
          },
          "metadata": {},
          "execution_count": 25
        }
      ]
    },
    {
      "cell_type": "markdown",
      "source": [
        "**Check for Palindrome**"
      ],
      "metadata": {
        "id": "vLQLoLazGlv0"
      }
    },
    {
      "cell_type": "code",
      "source": [
        "# if the reverse of the given word is the given word then it is a palindrome word\n",
        "\n",
        "\n",
        "def palindrome(word):\n",
        "  if word==word[::-1]:\n",
        "    return True\n",
        "  else:\n",
        "    return False\n",
        "word=input(\"enter the palindrome_word:\")\n",
        "palindrome(word)\n"
      ],
      "metadata": {
        "colab": {
          "base_uri": "https://localhost:8080/"
        },
        "id": "W8pyfte2Fy6Q",
        "outputId": "041c95d4-98ff-40b7-c6ac-cac0b00436da"
      },
      "execution_count": null,
      "outputs": [
        {
          "name": "stdout",
          "output_type": "stream",
          "text": [
            "enter the palindrome_word:madam\n"
          ]
        },
        {
          "output_type": "execute_result",
          "data": {
            "text/plain": [
              "True"
            ]
          },
          "metadata": {},
          "execution_count": 32
        }
      ]
    },
    {
      "cell_type": "markdown",
      "source": [],
      "metadata": {
        "id": "YsTH2FqmIAhg"
      }
    }
  ]
}