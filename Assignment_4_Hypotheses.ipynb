{
  "nbformat": 4,
  "nbformat_minor": 0,
  "metadata": {
    "colab": {
      "provenance": [],
      "toc_visible": true,
      "authorship_tag": "ABX9TyM/AgbOf8In9XKV9cbhLZ9h",
      "include_colab_link": true
    },
    "kernelspec": {
      "name": "python3",
      "display_name": "Python 3"
    },
    "language_info": {
      "name": "python"
    }
  },
  "cells": [
    {
      "cell_type": "markdown",
      "metadata": {
        "id": "view-in-github",
        "colab_type": "text"
      },
      "source": [
        "<a href=\"https://colab.research.google.com/github/Dasrunaik/AssignMents-ExcelR/blob/main/Assignment_4_Hypotheses.ipynb\" target=\"_parent\"><img src=\"https://colab.research.google.com/assets/colab-badge.svg\" alt=\"Open In Colab\"/></a>"
      ]
    },
    {
      "cell_type": "code",
      "execution_count": null,
      "metadata": {
        "id": "0JXXzUSrLqAN"
      },
      "outputs": [],
      "source": [
        "import numpy as np\n",
        "from scipy.stats import norm"
      ]
    },
    {
      "cell_type": "code",
      "source": [
        "sample_mean = 3050\n",
        "expected_x = 600\n",
        "expected_mean = 1000 + 5 * expected_x    # Theoretical mean cost (μ = 4000)\n",
        "std_dev_x = 25\n",
        "std_dev_cost = 5 * std_dev_x            # Std dev of cost W\n",
        "n = 25                              #sample size\n",
        "alpha = 0.05"
      ],
      "metadata": {
        "id": "4hENBaGGMISK"
      },
      "execution_count": null,
      "outputs": []
    },
    {
      "cell_type": "code",
      "source": [
        "standard_error = std_dev_cost / np.sqrt(n)             # SE = σ / √n\n",
        "standard_error"
      ],
      "metadata": {
        "colab": {
          "base_uri": "https://localhost:8080/"
        },
        "id": "FUqqP6X1M6Gm",
        "outputId": "2d6ed5e0-85c2-48c2-ad55-d5dacf9b1996"
      },
      "execution_count": null,
      "outputs": [
        {
          "output_type": "execute_result",
          "data": {
            "text/plain": [
              "np.float64(25.0)"
            ]
          },
          "metadata": {},
          "execution_count": 4
        }
      ]
    },
    {
      "cell_type": "code",
      "source": [
        "z_value = (sample_mean - expected_mean) / standard_error                # Z-test statistic\n",
        "z_value"
      ],
      "metadata": {
        "colab": {
          "base_uri": "https://localhost:8080/"
        },
        "id": "QEYP1jB5NOY-",
        "outputId": "0f855673-8493-4150-8fef-34992f3bfdc6"
      },
      "execution_count": null,
      "outputs": [
        {
          "output_type": "execute_result",
          "data": {
            "text/plain": [
              "np.float64(-38.0)"
            ]
          },
          "metadata": {},
          "execution_count": 6
        }
      ]
    },
    {
      "cell_type": "markdown",
      "source": [
        "Critical z-value for one-tailed test"
      ],
      "metadata": {
        "id": "hiRn2_G9NeBG"
      }
    },
    {
      "cell_type": "code",
      "source": [
        "z_critical = norm.ppf(1 - alpha)\n",
        "z_critical"
      ],
      "metadata": {
        "colab": {
          "base_uri": "https://localhost:8080/"
        },
        "id": "vuho0GUCNYqr",
        "outputId": "6cc2593c-9ed6-4290-d130-819b1dfa4a2a"
      },
      "execution_count": null,
      "outputs": [
        {
          "output_type": "execute_result",
          "data": {
            "text/plain": [
              "np.float64(1.6448536269514722)"
            ]
          },
          "metadata": {},
          "execution_count": 9
        }
      ]
    },
    {
      "cell_type": "markdown",
      "source": [
        "**Hypothesis Decision**"
      ],
      "metadata": {
        "id": "z452bMwVNr1I"
      }
    },
    {
      "cell_type": "code",
      "source": [
        "if z_value > z_critical:\n",
        "    decision = \"Reject the null hypothesis\"\n",
        "    conclusion = \"There is strong evidence that the weekly costs are higher than predicted.\"\n",
        "else:\n",
        "    decision = \"Fail to reject the null hypothesis\"\n",
        "    conclusion = \"There is not enough evidence to support the claim that costs are higher.\"\n",
        "\n",
        "print(decision)\n",
        "print(conclusion)\n"
      ],
      "metadata": {
        "colab": {
          "base_uri": "https://localhost:8080/"
        },
        "id": "4SklXZdzNnvi",
        "outputId": "e9881edb-b8a4-4457-c8c4-4c6714b5ac6f"
      },
      "execution_count": null,
      "outputs": [
        {
          "output_type": "stream",
          "name": "stdout",
          "text": [
            "Fail to reject the null hypothesis\n",
            "There is not enough evidence to support the claim that costs are higher.\n"
          ]
        }
      ]
    },
    {
      "cell_type": "markdown",
      "source": [
        "**Conclusion:**\n",
        "\n",
        "Theoretical mean = ₹4,000\n",
        "\n",
        "Sample mean = ₹3,050\n",
        "\n",
        "Z-score = -38.0 (approximately)\n",
        "\n",
        "Critical value at α = 0.05 = 1.645\n",
        "\n",
        "\n",
        "\n",
        "Result:Since the Z-score is much less than the critical value, we fail to reject the null hypothesis."
      ],
      "metadata": {
        "id": "2s3_Y0L4ORSZ"
      }
    }
  ]
}